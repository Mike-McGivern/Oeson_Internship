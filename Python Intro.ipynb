{
 "cells": [
  {
   "cell_type": "code",
   "execution_count": 1,
   "id": "24263751-e71e-4097-a4e7-6c5008cc63cb",
   "metadata": {},
   "outputs": [
    {
     "name": "stdout",
     "output_type": "stream",
     "text": [
      "Hello World!\n",
      "The Sum:  30\n"
     ]
    }
   ],
   "source": [
    "print(\"Hello World!\")\n",
    "a = 10\n",
    "b = 20\n",
    "print(\"The Sum: \", (a+b))\n"
   ]
  },
  {
   "cell_type": "code",
   "execution_count": 2,
   "id": "4377eb4d-f38f-40bd-98dc-9e5bd598ea9d",
   "metadata": {},
   "outputs": [
    {
     "name": "stdout",
     "output_type": "stream",
     "text": [
      "Data Science\n",
      "14.5\n",
      "10\n",
      "False\n",
      "8\n",
      "<class 'int'>\n",
      "<class 'float'>\n",
      "7\n",
      "7\n",
      "4\n",
      "123\n",
      "10.0\n",
      "1.0\n",
      "0.0\n",
      "10.5\n",
      "False\n",
      "True\n",
      "True\n",
      "True\n",
      "True\n",
      "False\n",
      "True\n",
      "True\n",
      "False\n",
      "True\n",
      "True\n",
      "False\n"
     ]
    }
   ],
   "source": [
    "import pandas as pd\n",
    "a = \"Data Science\"\n",
    "print(a)\n",
    "type(a)\n",
    "z = True\n",
    "type(z)\n",
    "print(True + 6 + 7.5)\n",
    "#True = 1, False = 0, casts to int 7 + 7.5 casts to float 14.5\n",
    "print(int(7.5) + 3)\n",
    "#equals 10 as int(7.5) is truncated\n",
    "print(bool(0))\n",
    "#Auto typecasting\n",
    "print(True + 3 + int(4.5))\n",
    "a = 3\n",
    "b = 4.5\n",
    "print(type(a))\n",
    "print(type(b))\n",
    "print(a + int(b))\n",
    "print(3 + int('4'))\n",
    "#True -> 1, False -> 0\n",
    "print(False + 4)\n",
    "print(int(123.987))\n",
    "print(float(10))\n",
    "print(float(True))\n",
    "print(float(False))\n",
    "print(float(10.5))\n",
    "print(bool(0))\n",
    "print(bool(1))\n",
    "print(bool(10))\n",
    "print(bool(10.5))\n",
    "print(bool(0.178))\n",
    "print(bool(0.0))\n",
    "print(bool(10-2j))\n",
    "print(bool(0+1.5j))\n",
    "print(bool(0+0j))\n",
    "print(bool(\"True\"))\n",
    "print(bool(\"False\"))\n",
    "print(bool(\"\"))\n"
   ]
  },
  {
   "cell_type": "code",
   "execution_count": 3,
   "id": "e45bf173-d498-43b4-ab3d-a27badf66c97",
   "metadata": {},
   "outputs": [
    {
     "name": "stdout",
     "output_type": "stream",
     "text": [
      "am\n",
      "Scientist\n",
      "Data Scientist\n",
      "I am a \n",
      "[3, 4, 5, 6]\n",
      "[2, 3, 4, 5, 6, 7, 8, 9, 10]\n",
      "[1, 2, 3, 4, 5]\n",
      "[1, 3, 5, 7, 9]\n",
      "orld!\n",
      "Hello\n",
      "HloWrd\n",
      "[9, 10]\n",
      "[1, 2, 3, 4, 5, 6, 7]\n",
      "[10, 9, 8, 7, 6, 5, 4, 3, 2, 1]\n"
     ]
    }
   ],
   "source": [
    "a = \"I am a Data Scientist\"\n",
    "print(a[2:4])\n",
    "print(a[-9:])\n",
    "print(a[7:])\n",
    "print(a[:7])\n",
    "myList = [1, 2, 3, 4, 5, 6, 7, 8, 9, 10]\n",
    "slice1 = myList[2:6]\n",
    "print(slice1)\n",
    "slice2 = myList[1:]\n",
    "print(slice2)\n",
    "slice3 = myList[:5]\n",
    "print(slice3)\n",
    "slice4 = myList[::2]\n",
    "print(slice4)\n",
    "\n",
    "myStr = \"Hello World!\"\n",
    "slice5 = myStr[7:]\n",
    "print(slice5)\n",
    "slice6 = myStr[:5]\n",
    "print(slice6)\n",
    "slice7 = myStr[::2]\n",
    "print(slice7)\n",
    "\n",
    "myList = [1, 2, 3, 4, 5, 6, 7, 8, 9, 10]\n",
    "\n",
    "slice8 = myList[-2:]\n",
    "print(slice8)\n",
    "slice9 = myList[:-3]\n",
    "print(slice9)\n",
    "slice10 = myList[::-1]\n",
    "print(slice10)\n",
    "\n"
   ]
  },
  {
   "cell_type": "code",
   "execution_count": 4,
   "id": "a0d975d1-c11a-43fa-ae64-8e321639f800",
   "metadata": {},
   "outputs": [
    {
     "name": "stdout",
     "output_type": "stream",
     "text": [
      "14\n",
      "6\n",
      "40\n",
      "10000\n",
      "2.5\n",
      "2\n",
      "1\n"
     ]
    }
   ],
   "source": [
    "print(10 + 4)\n",
    "print(10 - 4)\n",
    "print(10 * 4)\n",
    "print(10 ** 4)\n",
    "print(10 / 4)\n",
    "print(10 // 4)\n",
    "print(5 % 4)"
   ]
  },
  {
   "cell_type": "code",
   "execution_count": 5,
   "id": "85c85333-7efe-4d24-8891-d7664bd7b109",
   "metadata": {},
   "outputs": [
    {
     "name": "stdout",
     "output_type": "stream",
     "text": [
      "True\n",
      "True\n",
      "False\n",
      "True\n",
      "False\n",
      "True\n",
      "False\n",
      "True\n",
      "True\n",
      "False\n"
     ]
    }
   ],
   "source": [
    "print(5 > 3)\n",
    "print(5 >= 3)\n",
    "print(5 != 5)\n",
    "print(5 == 5)\n",
    "print(10 == 20)\n",
    "print(10 != 20)\n",
    "print(10 == True)\n",
    "print(False == False)\n",
    "print(\"durga\" == \"durga\")\n",
    "print(10 == \"durga\")\n"
   ]
  },
  {
   "cell_type": "code",
   "execution_count": 6,
   "id": "55cb0d04-4ca7-4ec5-a6bb-c7281cdc32b4",
   "metadata": {},
   "outputs": [
    {
     "name": "stdout",
     "output_type": "stream",
     "text": [
      "Both a and b are greater than 0\n",
      "Either a or b is greater than 0\n",
      "a is True\n"
     ]
    }
   ],
   "source": [
    "a = 10\n",
    "b = 20\n",
    "if a > 0 and b > 0:\n",
    "    print(\"Both a and b are greater than 0\")\n",
    "\n",
    "a = 10\n",
    "b = -5\n",
    "if a > 0 or b > 0:\n",
    "    print(\"Either a or b is greater than 0\")\n",
    "\n",
    "a = True\n",
    "if not a:\n",
    "    print(\"a is False\")\n",
    "else:\n",
    "    print(\"a is True\")\n"
   ]
  },
  {
   "cell_type": "code",
   "execution_count": 7,
   "id": "673e1edb-218f-4548-8874-90d252749996",
   "metadata": {},
   "outputs": [
    {
     "name": "stdout",
     "output_type": "stream",
     "text": [
      "10\n",
      "15\n",
      "12\n",
      "24\n",
      "6.0\n",
      "0.0\n",
      "0.0\n",
      "0.0\n"
     ]
    }
   ],
   "source": [
    "x = 10\n",
    "print(x)\n",
    "x += 5\n",
    "print(x)\n",
    "x -= 3\n",
    "print(x)\n",
    "x *= 2\n",
    "print(x)\n",
    "x /= 4\n",
    "print(x)\n",
    "x %= 3\n",
    "print(x)\n",
    "x **= 2\n",
    "print(x)\n",
    "x //= 3\n",
    "print(x)"
   ]
  },
  {
   "cell_type": "code",
   "execution_count": 8,
   "id": "98d5d10e-7dc4-4416-b23b-a4570445035a",
   "metadata": {},
   "outputs": [
    {
     "name": "stdout",
     "output_type": "stream",
     "text": [
      "15\n",
      "5\n",
      "50\n",
      "2.0\n",
      "1\n",
      "1000\n",
      "3\n",
      "8\n",
      "2\n",
      "15\n",
      "1.6666666666666667\n",
      "125\n",
      "1\n"
     ]
    }
   ],
   "source": [
    "x = 10 + 5\n",
    "print(x)\n",
    "y = 10 - 5\n",
    "print(y)\n",
    "z = 10 * 5\n",
    "print(z)\n",
    "w = 10 / 5\n",
    "print(w)\n",
    "mod = 10 % 3\n",
    "print(mod)\n",
    "exp = 10 ** 3\n",
    "print(exp)\n",
    "floorDiv = 10 // 3\n",
    "print(floorDiv)\n",
    "\n",
    "a = 5\n",
    "a+= 3\n",
    "print(a)\n",
    "b = 5\n",
    "b -= 3\n",
    "print(b)\n",
    "c = 5\n",
    "c *= 3\n",
    "print(c)\n",
    "d = 5\n",
    "d /= 3\n",
    "print(d)\n",
    "f = 5\n",
    "f **= 3\n",
    "print(f)\n",
    "g = 5\n",
    "g //= 3\n",
    "print(g)\n"
   ]
  },
  {
   "cell_type": "code",
   "execution_count": 9,
   "id": "05bf331b-e8c0-4b94-9218-f4d2bfb37bc3",
   "metadata": {},
   "outputs": [
    {
     "name": "stdout",
     "output_type": "stream",
     "text": [
      "False\n",
      "True\n",
      "False\n",
      "True\n",
      "False\n",
      "True\n"
     ]
    }
   ],
   "source": [
    "x = 5\n",
    "y = 10\n",
    "print(x == y)\n",
    "print(x != y)\n",
    "print(x > y)\n",
    "print(x < y)\n",
    "print(x >= y)\n",
    "print(x <= y)\n"
   ]
  },
  {
   "cell_type": "code",
   "execution_count": 10,
   "id": "2619897b-fced-4ddf-b579-ffb0c9cefd85",
   "metadata": {},
   "outputs": [
    {
     "name": "stdout",
     "output_type": "stream",
     "text": [
      "2\n",
      "15\n",
      "13\n",
      "-11\n",
      "40\n",
      "2\n"
     ]
    }
   ],
   "source": [
    "x = 10\n",
    "y = 7\n",
    "print(x & y) #bitwise and\n",
    "print(x | y) #bitwise or\n",
    "print(x ^ y) #bitwise xor\n",
    "print(~x) #two's complement flip all bits and add one\n",
    "print(x << 2)\n",
    "print(x >> 2)\n"
   ]
  }
 ],
 "metadata": {
  "kernelspec": {
   "display_name": "Python 3 (ipykernel)",
   "language": "python",
   "name": "python3"
  },
  "language_info": {
   "codemirror_mode": {
    "name": "ipython",
    "version": 3
   },
   "file_extension": ".py",
   "mimetype": "text/x-python",
   "name": "python",
   "nbconvert_exporter": "python",
   "pygments_lexer": "ipython3",
   "version": "3.12.7"
  }
 },
 "nbformat": 4,
 "nbformat_minor": 5
}
