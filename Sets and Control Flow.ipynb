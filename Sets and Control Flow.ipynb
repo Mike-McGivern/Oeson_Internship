{
 "cells": [
  {
   "cell_type": "markdown",
   "id": "dfd51ce7-f462-45e3-b269-4e40d85573c2",
   "metadata": {},
   "source": [
    "Nested Dictionaries\n",
    "Dictonary within Dictonary\n",
    "values can be repeated but keys cannot\n"
   ]
  },
  {
   "cell_type": "code",
   "execution_count": 26,
   "id": "3134376c-1823-40c9-951e-56d1c5916d13",
   "metadata": {},
   "outputs": [
    {
     "name": "stdout",
     "output_type": "stream",
     "text": [
      "{'R101': {'name': 'Kyle', 'Age': 26, 'subjects': ['Maths', 'Science', 'IT']}, 'R102': {'name': 'Colton', 'Age': 27}}\n",
      "{'R101': {'name': 'Kyle', 'Age': 26, 'subjects': ['Maths', 'Science', 'IT']}, 'R102': {'name': 'Colton', 'Age': 27}, 'R103': {'name': 'John', 'Age': 25}}\n",
      "{'R101': {'name': 'Kyle', 'Age': 26, 'subjects': ['Maths', 'Science', 'IT'], 'Course': 'Data Science'}, 'R102': {'name': 'Colton', 'Age': 27}, 'R103': {'name': 'John', 'Age': 25}}\n",
      "{'R101': {'name': 'Kyle', 'Age': 26, 'subjects': ['Maths', 'Science', 'IT'], 'Course': 'Data Science'}, 'R102': {'name': 'Colton', 'Age': 27}, 'R103': {'name': 'John'}}\n"
     ]
    }
   ],
   "source": [
    "students = {\n",
    "    'R101': {\n",
    "        'name': 'Kyle',\n",
    "        'Age': 26,\n",
    "        'subjects': ['Maths', 'Science', 'IT']\n",
    "    },\n",
    "    'R102': {\n",
    "        'name': 'Colton',\n",
    "        'Age': 27\n",
    "    }\n",
    "}\n",
    "print(students)\n",
    "\n",
    "students['R103'] = {'name': 'John', 'Age': 25}\n",
    "print(students)\n",
    "students['R101']['Course'] = 'Data Science'\n",
    "print(students)\n",
    "#students['R103'].pop('Age')\n",
    "#print(students)\n",
    "del students['R103']['Age']\n",
    "print(students)\n",
    "\n",
    "\n",
    "\n"
   ]
  },
  {
   "cell_type": "code",
   "execution_count": 29,
   "id": "e3dafc81-f541-4002-bbb4-6361799174c8",
   "metadata": {},
   "outputs": [
    {
     "name": "stdout",
     "output_type": "stream",
     "text": [
      "True\n"
     ]
    },
    {
     "name": "stdin",
     "output_type": "stream",
     "text": [
      "Enter the First word:  hi\n",
      "Enter the Second word:  byte\n"
     ]
    },
    {
     "name": "stdout",
     "output_type": "stream",
     "text": [
      "False\n",
      "False\n"
     ]
    }
   ],
   "source": [
    "def check_anagram(s1, s2):\n",
    "    if len(s1) != len(s2):\n",
    "        return False\n",
    "    else:\n",
    "        s1 = s1.lower()\n",
    "        s2 = s2.lower()\n",
    "        if sorted(s1) == sorted(s2):\n",
    "            return True\n",
    "        else:\n",
    "            return False\n",
    "print(check_anagram('Fired', 'Fried'))\n",
    "\n",
    "s = input('Enter the First word: ' )\n",
    "l = input('Enter the Second word: ')\n",
    "print(check_anagram(s,l))\n",
    "\n",
    "#Hashing Alogrithm\n",
    "def are_anagrams(str1, str2):\n",
    "    if len(str1) != len(str2):\n",
    "        return False\n",
    "\n",
    "    char_count1 = {}\n",
    "    char_count2 = {}\n",
    "\n",
    "    for char in str1:\n",
    "        char_count1[char] = char_count1.get(char)\n",
    "\n",
    "    for char in str2:\n",
    "        char_count2[char] = char_count2.get(char)\n",
    "\n",
    "    return char_count1 == char_count2\n",
    "\n",
    "\n",
    "if len(s) != len(l):\n",
    "    print(False)\n",
    "else:\n",
    "    sDict = {}\n",
    "    lDict = {}\n",
    "\n",
    "    for char in s:\n",
    "        sDict[char] = sDict.get(char, 0) + 1\n",
    "    for char in l:\n",
    "        lDict[char] = lDict.get(char, 0) + 1\n",
    "    if sDict == lDict:\n",
    "        print(True)\n",
    "    else:\n",
    "        print(False)"
   ]
  },
  {
   "cell_type": "markdown",
   "id": "70e8050a-b8f8-470c-aeb9-4c49e126a9c2",
   "metadata": {},
   "source": [
    "#Sets\n",
    "\n",
    "- Unordered\n",
    "- No fixed index values\n",
    "- sets only contain unique elements, no duplicate values\n",
    "- manually created using { }\n",
    "- Using set() function\n",
    "- Union / Intersection / filter\n",
    "- Membership operators to check if values are present\n",
    "- "
   ]
  },
  {
   "cell_type": "code",
   "execution_count": 28,
   "id": "1a20ccfb-61e4-4e63-aa0f-a008cd950411",
   "metadata": {},
   "outputs": [
    {
     "name": "stdout",
     "output_type": "stream",
     "text": [
      "{1, 2, 3, 4, 5, 6, 7}\n",
      "[1, 1, 1, 2, 6, 8, 3, 6, 8, 2, 5, 9]\n",
      "{1, 2, 3, 5, 6, 8, 9}\n",
      "{2, 3, 5, 6, 7, 75, 44, 53, 22}\n",
      "{75, 5}\n"
     ]
    }
   ],
   "source": [
    "#Create set\n",
    "mySet = {1, 1, 1, 2, 3, 1, 4, 5, 2, 5, 7, 6}\n",
    "print(mySet)\n",
    "\n",
    "listDup = [1, 1, 1, 2, 6, 8, 3, 6, 8, 2, 5, 9]\n",
    "print(listDup)\n",
    "unique = set(listDup)\n",
    "print(unique)\n",
    "\n",
    "a = {3, 5, 6, 22, 75}\n",
    "b = {44, 53, 5, 75, 5, 7, 2}\n",
    "\n",
    "#Union\n",
    "print(a.union(b))\n",
    "\n",
    "#intesection\n",
    "print(a&b)\n",
    "\n",
    "\n"
   ]
  },
  {
   "cell_type": "markdown",
   "id": "94accbe1-3678-4c4e-ab02-19a241fec087",
   "metadata": {},
   "source": [
    "#Control Flow\n",
    "\n",
    "- regulates overall flow of the program\n",
    "- allows user or devloper to have sequenential executions\n",
    "- creates dicision making\n",
    "- managing the code's structure\n",
    "- allow users to repeat processes\n",
    "- makes programming efficient\n",
    "\n",
    "1. Conditional statements\n",
    "   -If\n",
    "   -If-Else\n",
    "   -If-Elif-Else\n",
    "\n",
    "2. Iterative statements (loops)\n",
    "    -For\n",
    "    -While\n",
    "\n",
    "3. Control statements within Loops\n",
    "    -Break\n",
    "    -Pass\n",
    "    -Continue\n",
    "\n",
    "Look at python's offical documentation of control flow: https://docs.python.org/3/tutorial/controlflow.html\n",
    "\n",
    "\n",
    "\n"
   ]
  },
  {
   "cell_type": "code",
   "execution_count": 4,
   "id": "7e4d7ff7-fc0b-4418-85fe-9a6ab6c9208f",
   "metadata": {},
   "outputs": [
    {
     "name": "stdin",
     "output_type": "stream",
     "text": [
      "Enter Num 1 4\n",
      "Enter Num 2 3\n"
     ]
    },
    {
     "name": "stdout",
     "output_type": "stream",
     "text": [
      "num1 is greater than num2\n"
     ]
    }
   ],
   "source": [
    "#Conditional statement\n",
    "\n",
    "num1, num2 = int(input('Enter Num 1')), int(input('Enter Num 2'))\n",
    "if num1 > num2:\n",
    "    print('num1 is greater than num2')\n",
    "elif num1 == num2:\n",
    "    print('numbers are equal')\n",
    "else:\n",
    "    print('num2 is greater than num1')\n",
    "\n"
   ]
  },
  {
   "cell_type": "code",
   "execution_count": 8,
   "id": "fd4ae5e2-0cbc-4d15-b6f3-5577ab939e51",
   "metadata": {},
   "outputs": [
    {
     "name": "stdout",
     "output_type": "stream",
     "text": [
      "C\n",
      "F\n",
      "A\n"
     ]
    },
    {
     "name": "stdin",
     "output_type": "stream",
     "text": [
      "enter grade:  79\n"
     ]
    },
    {
     "name": "stdout",
     "output_type": "stream",
     "text": [
      "Grade is C\n"
     ]
    }
   ],
   "source": [
    "def letterGrade(grade: int) -> str:\n",
    "    if grade >= 90:\n",
    "        return 'A'\n",
    "    elif grade >= 80:\n",
    "        return 'B'\n",
    "    elif grade >= 70:\n",
    "        return 'C'\n",
    "    elif grade >= 60:\n",
    "        return 'D'\n",
    "    else:\n",
    "        return 'F'\n",
    "\n",
    "print(letterGrade(79))\n",
    "print(letterGrade(22))\n",
    "print(letterGrade(92))\n",
    "\n",
    "grade = int(input('enter grade: '))\n",
    "\n",
    "if grade >= 90:\n",
    "    print('Grade is A')\n",
    "elif grade >= 80:\n",
    "    print('Grade is B')\n",
    "elif grade >= 70:\n",
    "    print('Grade is C')\n",
    "elif grade >= 60:\n",
    "    print('Grade is D')\n",
    "else:\n",
    "    print('Grade is F')"
   ]
  },
  {
   "cell_type": "code",
   "execution_count": 15,
   "id": "136afd8d-0bb3-48d3-9564-b2ba9b4e27b0",
   "metadata": {},
   "outputs": [
    {
     "name": "stdin",
     "output_type": "stream",
     "text": [
      "enter year 2004\n"
     ]
    },
    {
     "name": "stdout",
     "output_type": "stream",
     "text": [
      "2004 is a leap year\n"
     ]
    }
   ],
   "source": [
    "year = int(input('enter year'))\n",
    "if year % 4 == 0 and year % 100 != 0:\n",
    "    print(f'{year} is a leap year')\n",
    "else:\n",
    "    print(f'{year} is not a leap year')\n"
   ]
  },
  {
   "cell_type": "code",
   "execution_count": 21,
   "id": "c098f197-73db-4fdf-9f93-4cb0cb5909bd",
   "metadata": {},
   "outputs": [
    {
     "name": "stdin",
     "output_type": "stream",
     "text": [
      "enter a word or number. 22\n"
     ]
    },
    {
     "name": "stdout",
     "output_type": "stream",
     "text": [
      "value entered is a palindrome\n"
     ]
    }
   ],
   "source": [
    "\n",
    "value = str(input('enter a word or number.'))\n",
    "if value == value[::-1]:\n",
    "    print('value entered is a palindrome')\n",
    "else:\n",
    "    print('value entered is not a palindrome')\n",
    "\n",
    "        \n"
   ]
  },
  {
   "cell_type": "markdown",
   "id": "c1c0e0eb-2147-47c9-8ef8-2fc30fc6ea3f",
   "metadata": {},
   "source": [
    "do these leetcode questions\n",
    "\n",
    "1822 sign of the product of an array\n",
    "202 happy number\n",
    "\n",
    "\n",
    "\n"
   ]
  },
  {
   "cell_type": "code",
   "execution_count": null,
   "id": "f5e15dce-bd89-43fd-9c98-85b28652b600",
   "metadata": {},
   "outputs": [],
   "source": []
  }
 ],
 "metadata": {
  "kernelspec": {
   "display_name": "Python 3 (ipykernel)",
   "language": "python",
   "name": "python3"
  },
  "language_info": {
   "codemirror_mode": {
    "name": "ipython",
    "version": 3
   },
   "file_extension": ".py",
   "mimetype": "text/x-python",
   "name": "python",
   "nbconvert_exporter": "python",
   "pygments_lexer": "ipython3",
   "version": "3.12.7"
  }
 },
 "nbformat": 4,
 "nbformat_minor": 5
}
